{
 "cells": [
  {
   "cell_type": "markdown",
   "metadata": {},
   "source": [
    "# Single Linked List\n"
   ]
  },
  {
   "cell_type": "markdown",
   "metadata": {},
   "source": [
    "## Node"
   ]
  },
  {
   "cell_type": "code",
   "execution_count": 1,
   "metadata": {},
   "outputs": [],
   "source": [
    "class Node():\n",
    "    def __init__(self, item):\n",
    "        self.item = item\n",
    "        self.next = None\n",
    "        \n",
    "    def get_item(self):\n",
    "        return self.item\n",
    "    \n",
    "    def set_item(self,item):\n",
    "        self.item = item\n",
    "        \n",
    "    def get_next(self):\n",
    "        return self.next\n",
    "    \n",
    "    def set_next(self, new_next):\n",
    "        self.next = new_next\n",
    "        "
   ]
  },
  {
   "cell_type": "code",
   "execution_count": 4,
   "metadata": {},
   "outputs": [],
   "source": [
    "temp = Node(12)"
   ]
  },
  {
   "cell_type": "code",
   "execution_count": 5,
   "metadata": {},
   "outputs": [
    {
     "data": {
      "text/plain": [
       "12"
      ]
     },
     "execution_count": 5,
     "metadata": {},
     "output_type": "execute_result"
    }
   ],
   "source": [
    "temp.get_item()"
   ]
  },
  {
   "cell_type": "code",
   "execution_count": 129,
   "metadata": {
    "collapsed": true
   },
   "outputs": [],
   "source": [
    "class LinkedList():\n",
    "    \n",
    "    def __init__(self):\n",
    "        self.head= None\n",
    "        self.size = 0\n",
    "    \n",
    "    def is_empty(self):\n",
    "        return self.head == None\n",
    "    \n",
    "    def add_begining(self,item):\n",
    "        temp = Node(item)\n",
    "        temp.set_next(self.head)\n",
    "        self.head = temp\n",
    "        self.size +=1\n",
    "    \n",
    "    def get_size(self):\n",
    "        return self.size\n",
    "    \n",
    "    def print_list(self):\n",
    "        cur = self.head\n",
    "        \n",
    "        while(cur):\n",
    "            print(cur.get_item(),  end='->', flush=True) \n",
    "            cur = cur.get_next()\n",
    "        \n",
    "    def add_last(self,item):\n",
    "        cur = self.head\n",
    "        temp = Node(item)\n",
    "        prev = None\n",
    "        if cur == None:\n",
    "           self.add_begining(item)\n",
    "           return \n",
    "        while(cur):\n",
    "            prev = cur\n",
    "            cur = cur.get_next()\n",
    "        prev.set_next(temp)\n",
    "        self.size +=1\n",
    "        \n",
    "    def search(self,item):\n",
    "        cur= self.head\n",
    "        found= False\n",
    "        \n",
    "        while(cur):\n",
    "            if(cur.get_item() == item):\n",
    "                found = True\n",
    "                break\n",
    "            else:\n",
    "                cur = cur.get_next()\n",
    "        return found \n",
    "    \n",
    "    def remove(self,item):\n",
    "        cur = self.head\n",
    "        prev = None\n",
    "        found = False\n",
    "        \n",
    "        while(cur):\n",
    "   \n",
    "            if(cur.get_item()==item):\n",
    "                found = True\n",
    "                break\n",
    "            else:\n",
    "                prev = cur\n",
    "                cur = cur.get_next()\n",
    "        \n",
    "       \n",
    "        if found and prev == None:\n",
    "        \n",
    "            self.head = cur.get_next()\n",
    "        elif found:\n",
    "            prev.set_next(cur.get_next())\n",
    "            \n",
    "    def reverse(self):\n",
    "        cur = self.head\n",
    "        prev = None\n",
    "        \n",
    "        while(cur):\n",
    "            next = cur.get_next()\n",
    "            cur.set_next(prev)\n",
    "            prev = cur\n",
    "            cur = next\n",
    "        self.head = prev\n",
    "        \n",
    "        \n",
    "        \n",
    "    "
   ]
  },
  {
   "cell_type": "code",
   "execution_count": 130,
   "metadata": {
    "collapsed": true
   },
   "outputs": [],
   "source": [
    "l = LinkedList()\n",
    "l.add_begining(10)\n",
    "l.add_begining(20)\n",
    "l.add_begining(30)"
   ]
  },
  {
   "cell_type": "code",
   "execution_count": 131,
   "metadata": {},
   "outputs": [
    {
     "name": "stdout",
     "output_type": "stream",
     "text": [
      "30->20->10->"
     ]
    }
   ],
   "source": [
    "l.print_list()"
   ]
  },
  {
   "cell_type": "code",
   "execution_count": 132,
   "metadata": {},
   "outputs": [],
   "source": [
    "l.add_last(0)"
   ]
  },
  {
   "cell_type": "code",
   "execution_count": 133,
   "metadata": {},
   "outputs": [
    {
     "name": "stdout",
     "output_type": "stream",
     "text": [
      "30->20->10->0->"
     ]
    }
   ],
   "source": [
    "l.print_list()"
   ]
  },
  {
   "cell_type": "code",
   "execution_count": 134,
   "metadata": {},
   "outputs": [
    {
     "data": {
      "text/plain": [
       "False"
      ]
     },
     "execution_count": 134,
     "metadata": {},
     "output_type": "execute_result"
    }
   ],
   "source": [
    "l.search(50)"
   ]
  },
  {
   "cell_type": "code",
   "execution_count": 135,
   "metadata": {},
   "outputs": [
    {
     "data": {
      "text/plain": [
       "True"
      ]
     },
     "execution_count": 135,
     "metadata": {},
     "output_type": "execute_result"
    }
   ],
   "source": [
    "l.search(10)"
   ]
  },
  {
   "cell_type": "code",
   "execution_count": 136,
   "metadata": {},
   "outputs": [
    {
     "name": "stdout",
     "output_type": "stream",
     "text": [
      "30->20->10->"
     ]
    }
   ],
   "source": [
    "\n",
    "l.remove(0)\n",
    "l.print_list()"
   ]
  },
  {
   "cell_type": "code",
   "execution_count": 137,
   "metadata": {},
   "outputs": [
    {
     "name": "stdout",
     "output_type": "stream",
     "text": [
      "40->30->20->10->"
     ]
    }
   ],
   "source": [
    "l.add_begining(40)\n",
    "l.print_list()"
   ]
  },
  {
   "cell_type": "markdown",
   "metadata": {},
   "source": [
    "## Reverse a linked List"
   ]
  },
  {
   "cell_type": "code",
   "execution_count": 138,
   "metadata": {
    "collapsed": true
   },
   "outputs": [],
   "source": [
    "l.reverse()"
   ]
  },
  {
   "cell_type": "code",
   "execution_count": 139,
   "metadata": {},
   "outputs": [
    {
     "name": "stdout",
     "output_type": "stream",
     "text": [
      "10->20->30->40->"
     ]
    }
   ],
   "source": [
    "l.print_list()"
   ]
  },
  {
   "cell_type": "code",
   "execution_count": null,
   "metadata": {
    "collapsed": true
   },
   "outputs": [],
   "source": []
  }
 ],
 "metadata": {
  "anaconda-cloud": {},
  "kernelspec": {
   "display_name": "Python 3",
   "language": "python",
   "name": "python3"
  },
  "language_info": {
   "codemirror_mode": {
    "name": "ipython",
    "version": 3
   },
   "file_extension": ".py",
   "mimetype": "text/x-python",
   "name": "python",
   "nbconvert_exporter": "python",
   "pygments_lexer": "ipython3",
   "version": "3.6.4"
  }
 },
 "nbformat": 4,
 "nbformat_minor": 2
}
